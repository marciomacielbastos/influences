{
 "metadata": {
  "name": ""
 },
 "nbformat": 3,
 "nbformat_minor": 0,
 "worksheets": [
  {
   "cells": [
    {
     "cell_type": "code",
     "collapsed": false,
     "input": [
      "import numpy as np\n",
      "from collections import Counter\n",
      "from scipy.cluster.vq import kmeans,kmeans2\n",
      "import pylab as pl\n",
      "import IPython\n",
      "import datetime as dt\n",
      "import codecs\n",
      "import pandas as pd\n",
      "import networkx as nx\n",
      "import datetime as dt\n",
      "import matplotlib\n",
      "import matplotlib.pyplot as plt\n",
      "import operator\n",
      "%pylab inline "
     ],
     "language": "python",
     "metadata": {},
     "outputs": [
      {
       "output_type": "stream",
       "stream": "stdout",
       "text": [
        "Populating the interactive namespace from numpy and matplotlib\n"
       ]
      }
     ],
     "prompt_number": 48
    },
    {
     "cell_type": "code",
     "collapsed": false,
     "input": [
      "datapath='../DataMIning/MMD/datasets/influences.csv'\n",
      "s = codecs.open(datapath, encoding=\"utf-8\").readlines()\n",
      "lines = [line.strip() for line in s]\n",
      "lines2 = []\n",
      "for line in lines:\n",
      "    line = line.replace('\",','\";')\n",
      "    line = line.replace('\"','').strip()\n",
      "    lines2.append(line)\n",
      "dataset = np.array([(line.split(';')[0],line.split(';')[1]) for line in lines2])[1:]\n",
      "influenciadores = np.array(dataset[:,0])\n",
      "influenciados = np.array(dataset[:,1])\n",
      "pessoas = np.union1d(influenciadores,influenciados)"
     ],
     "language": "python",
     "metadata": {},
     "outputs": [],
     "prompt_number": 49
    },
    {
     "cell_type": "code",
     "collapsed": false,
     "input": [
      "total=pd.DataFrame(dataset)"
     ],
     "language": "python",
     "metadata": {},
     "outputs": [],
     "prompt_number": 50
    },
    {
     "cell_type": "code",
     "collapsed": false,
     "input": [
      "total.info()"
     ],
     "language": "python",
     "metadata": {},
     "outputs": [
      {
       "output_type": "stream",
       "stream": "stdout",
       "text": [
        "<class 'pandas.core.frame.DataFrame'>\n",
        "Int64Index: 5008 entries, 0 to 5007\n",
        "Data columns (total 2 columns):\n",
        "0    5008 non-null object\n",
        "1    5008 non-null object\n",
        "dtypes: object(2)"
       ]
      }
     ],
     "prompt_number": 51
    },
    {
     "cell_type": "code",
     "collapsed": false,
     "input": [
      "total.columns=['influenciador','influenciado']\n",
      "by_infldr = total.groupby('influenciador')\n",
      "by_infld = total.groupby('influenciado')\n",
      "print by_infldr"
     ],
     "language": "python",
     "metadata": {},
     "outputs": [
      {
       "output_type": "stream",
       "stream": "stdout",
       "text": [
        "<pandas.core.groupby.DataFrameGroupBy object at 0x7f2184bebb90>\n"
       ]
      }
     ],
     "prompt_number": 121
    },
    {
     "cell_type": "heading",
     "level": 4,
     "metadata": {},
     "source": [
      "Quais s\u00e3o as 10 maiores personalidades, em termos de poder de gerar influ\u00eancias?"
     ]
    },
    {
     "cell_type": "code",
     "collapsed": false,
     "input": [
      "by_infldr.influenciador.count().order(ascending=False)[:10]"
     ],
     "language": "python",
     "metadata": {},
     "outputs": [
      {
       "metadata": {},
       "output_type": "pyout",
       "prompt_number": 122,
       "text": [
        "influenciador\n",
        "Georg Wilhelm Friedrich Hegel    44\n",
        "Arthur Schopenhauer              42\n",
        "Friedrich Nietzsche              33\n",
        "William S. Burroughs             30\n",
        "Karl Marx                        30\n",
        "Immanuel Kant                    30\n",
        "G. K. Chesterton                 29\n",
        "Baruch Spinoza                   29\n",
        "Samuel Beckett                   28\n",
        "Franz Kafka                      27\n",
        "dtype: int64"
       ]
      }
     ],
     "prompt_number": 122
    },
    {
     "cell_type": "code",
     "collapsed": false,
     "input": [
      "by_infld.influenciador.count().order(ascending=False)[:10]"
     ],
     "language": "python",
     "metadata": {},
     "outputs": [
      {
       "metadata": {},
       "output_type": "pyout",
       "prompt_number": 123,
       "text": [
        "influenciado\n",
        "Friedrich Nietzsche              21\n",
        "Martin Heidegger                 20\n",
        "Michel Foucault                  19\n",
        "Jean-Paul Sartre                 18\n",
        "Stephen King                     17\n",
        "Gilles Deleuze                   17\n",
        "Immanuel Kant                    16\n",
        "Georg Wilhelm Friedrich Hegel    16\n",
        "Bertrand Russell                 16\n",
        "Neil Gaiman                      15\n",
        "dtype: int64"
       ]
      }
     ],
     "prompt_number": 123
    },
    {
     "cell_type": "code",
     "collapsed": false,
     "input": [],
     "language": "python",
     "metadata": {},
     "outputs": []
    },
    {
     "cell_type": "code",
     "collapsed": false,
     "input": [],
     "language": "python",
     "metadata": {},
     "outputs": []
    }
   ],
   "metadata": {}
  }
 ]
}