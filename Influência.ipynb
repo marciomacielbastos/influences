{
 "metadata": {
  "name": ""
 },
 "nbformat": 3,
 "nbformat_minor": 0,
 "worksheets": [
  {
   "cells": [
    {
     "cell_type": "code",
     "collapsed": false,
     "input": [
      "import numpy as np\n",
      "from collections import Counter\n",
      "from scipy.cluster.vq import kmeans,kmeans2\n",
      "import pylab as pl\n",
      "import IPython\n",
      "import datetime as dt\n",
      "import codecs\n",
      "import os\n",
      "import pandas as pd\n",
      "import networkx as nx\n",
      "import matplotlib\n",
      "import matplotlib.pyplot as plt\n",
      "import operator\n",
      "%pylab inline "
     ],
     "language": "python",
     "metadata": {},
     "outputs": [
      {
       "output_type": "stream",
       "stream": "stdout",
       "text": [
        "Populating the interactive namespace from numpy and matplotlib\n"
       ]
      },
      {
       "output_type": "stream",
       "stream": "stderr",
       "text": [
        "WARNING: pylab import has clobbered these variables: ['f']\n",
        "`%pylab --no-import-all` prevents importing * from pylab and numpy\n"
       ]
      }
     ],
     "prompt_number": 56
    },
    {
     "cell_type": "code",
     "collapsed": false,
     "input": [
      "datapath='../MMD/datasets/influences.csv'\n",
      "outputs = \"../MMD/outputs/\"\n",
      "s = codecs.open(datapath, encoding=\"utf-8\").readlines()\n",
      "lines = [line.strip() for line in s]\n",
      "lines2 = []\n",
      "for line in lines:\n",
      "    line = line.replace('\",','\";')\n",
      "    line = line.replace('\"','').strip()\n",
      "    lines2.append(line)\n",
      "dataset = np.array([(line.split(';')[0],line.split(';')[1]) for line in lines2])[1:]\n",
      "influenciadores = np.array(dataset[:,0])\n",
      "influenciados = np.array(dataset[:,1])\n",
      "pessoas = np.union1d(influenciadores,influenciados)"
     ],
     "language": "python",
     "metadata": {},
     "outputs": [],
     "prompt_number": 57
    },
    {
     "cell_type": "code",
     "collapsed": false,
     "input": [
      "total=pd.DataFrame(dataset)"
     ],
     "language": "python",
     "metadata": {},
     "outputs": [],
     "prompt_number": 58
    },
    {
     "cell_type": "code",
     "collapsed": false,
     "input": [
      "total.info()"
     ],
     "language": "python",
     "metadata": {},
     "outputs": [
      {
       "output_type": "stream",
       "stream": "stdout",
       "text": [
        "<class 'pandas.core.frame.DataFrame'>\n",
        "Int64Index: 5008 entries, 0 to 5007\n",
        "Data columns (total 2 columns):\n",
        "0    5008 non-null object\n",
        "1    5008 non-null object\n",
        "dtypes: object(2)"
       ]
      }
     ],
     "prompt_number": 59
    },
    {
     "cell_type": "code",
     "collapsed": false,
     "input": [
      "total.columns=['influenciador','influenciado']\n",
      "by_infldr = total.groupby('influenciador')\n",
      "by_infld = total.groupby('influenciado')\n",
      "print by_infldr"
     ],
     "language": "python",
     "metadata": {},
     "outputs": [
      {
       "output_type": "stream",
       "stream": "stdout",
       "text": [
        "<pandas.core.groupby.DataFrameGroupBy object at 0x7f48744a0ed0>\n"
       ]
      }
     ],
     "prompt_number": 60
    },
    {
     "cell_type": "heading",
     "level": 4,
     "metadata": {},
     "source": [
      "Quais s\u00e3o as 10 maiores personalidades, em termos de poder de gerar influ\u00eancias?"
     ]
    },
    {
     "cell_type": "code",
     "collapsed": false,
     "input": [
      "by_infldr.influenciador.count().order(ascending=False)[:10]"
     ],
     "language": "python",
     "metadata": {},
     "outputs": [
      {
       "metadata": {},
       "output_type": "pyout",
       "prompt_number": 61,
       "text": [
        "influenciador\n",
        "Georg Wilhelm Friedrich Hegel    44\n",
        "Arthur Schopenhauer              42\n",
        "Friedrich Nietzsche              33\n",
        "William S. Burroughs             30\n",
        "Karl Marx                        30\n",
        "Immanuel Kant                    30\n",
        "G. K. Chesterton                 29\n",
        "Baruch Spinoza                   29\n",
        "Samuel Beckett                   28\n",
        "Franz Kafka                      27\n",
        "dtype: int64"
       ]
      }
     ],
     "prompt_number": 61
    },
    {
     "cell_type": "code",
     "collapsed": false,
     "input": [
      "by_infld.influenciado.count().order(ascending=False)[:10]"
     ],
     "language": "python",
     "metadata": {},
     "outputs": [
      {
       "metadata": {},
       "output_type": "pyout",
       "prompt_number": 62,
       "text": [
        "influenciado\n",
        "Friedrich Nietzsche              21\n",
        "Martin Heidegger                 20\n",
        "Michel Foucault                  19\n",
        "Jean-Paul Sartre                 18\n",
        "Stephen King                     17\n",
        "Gilles Deleuze                   17\n",
        "Immanuel Kant                    16\n",
        "Georg Wilhelm Friedrich Hegel    16\n",
        "Bertrand Russell                 16\n",
        "Neil Gaiman                      15\n",
        "dtype: int64"
       ]
      }
     ],
     "prompt_number": 62
    },
    {
     "cell_type": "code",
     "collapsed": false,
     "input": [
      "f = plt.figure(num=1, figsize=(10,10))\n",
      "G = nx.DiGraph()\n",
      "G.add_edges_from(dataset)\n",
      "pos = nx.spring_layout(G)\n",
      "#nx.draw(G,pos,arrows=True,with_labels=True)\n",
      "#nx.set_edge_attributes(G, 'len', 3)\n",
      "#nx.draw(G,prog='neato')"
     ],
     "language": "python",
     "metadata": {},
     "outputs": [
      {
       "metadata": {},
       "output_type": "display_data",
       "text": [
        "<matplotlib.figure.Figure at 0x7f486a8f5cd0>"
       ]
      }
     ],
     "prompt_number": 63
    },
    {
     "cell_type": "code",
     "collapsed": false,
     "input": [
      "import itertools\n",
      "Y = 2\n",
      "def maior_cluster(Y):\n",
      "    influenciadores = []\n",
      "    for v in G:\n",
      "        if G.out_degree(v)>=Y:\n",
      "            influenciadores += [v]\n",
      "            pass\n",
      "        pass\n",
      "    \n",
      "    clusters = {}\n",
      "    \n",
      "    for base in itertools.combinations(influenciadores, Y):\n",
      "        cluster = set.intersection(*[set(G.successors(p)) for p in base])\n",
      "        clusters[base] = len(cluster)\n",
      "        \n",
      "    return clusters\n",
      "\n",
      "clusters = maior_cluster(2)\n",
      "incluster = pd.Series(clusters).reset_index()\n",
      "incluster.sort(0,ascending=False).head(10)"
     ],
     "language": "python",
     "metadata": {},
     "outputs": [
      {
       "html": [
        "<div style=\"max-height:1000px;max-width:1500px;overflow:auto;\">\n",
        "<table border=\"1\" class=\"dataframe\">\n",
        "  <thead>\n",
        "    <tr style=\"text-align: right;\">\n",
        "      <th></th>\n",
        "      <th>index</th>\n",
        "      <th>0</th>\n",
        "    </tr>\n",
        "  </thead>\n",
        "  <tbody>\n",
        "    <tr>\n",
        "      <th>103795</th>\n",
        "      <td> (Friedrich Nietzsche, Georg Wilhelm Friedrich ...</td>\n",
        "      <td> 12</td>\n",
        "    </tr>\n",
        "    <tr>\n",
        "      <th>109500</th>\n",
        "      <td>    (Georg Wilhelm Friedrich Hegel, Immanuel Kant)</td>\n",
        "      <td> 10</td>\n",
        "    </tr>\n",
        "    <tr>\n",
        "      <th>166858</th>\n",
        "      <td> (Johann Wolfgang von Goethe, Arthur Schopenhauer)</td>\n",
        "      <td>  8</td>\n",
        "    </tr>\n",
        "    <tr>\n",
        "      <th>104241</th>\n",
        "      <td>          (Friedrich Nietzsche, S\u00f8ren Kierkegaard)</td>\n",
        "      <td>  8</td>\n",
        "    </tr>\n",
        "    <tr>\n",
        "      <th>103052</th>\n",
        "      <td>                     (Friedrich Engels, Karl Marx)</td>\n",
        "      <td>  8</td>\n",
        "    </tr>\n",
        "    <tr>\n",
        "      <th>202273</th>\n",
        "      <td>                      (Lenny Bruce, George Carlin)</td>\n",
        "      <td>  8</td>\n",
        "    </tr>\n",
        "    <tr>\n",
        "      <th>13347 </th>\n",
        "      <td>                 (Alexandre Dumas, Liviu Rebreanu)</td>\n",
        "      <td>  8</td>\n",
        "    </tr>\n",
        "    <tr>\n",
        "      <th>109513</th>\n",
        "      <td> (Georg Wilhelm Friedrich Hegel, Jean-Jacques R...</td>\n",
        "      <td>  8</td>\n",
        "    </tr>\n",
        "    <tr>\n",
        "      <th>260678</th>\n",
        "      <td>                     (Raoul Schrott, G\u00fcnter Grass)</td>\n",
        "      <td>  7</td>\n",
        "    </tr>\n",
        "    <tr>\n",
        "      <th>34160 </th>\n",
        "      <td>           (Baruch Spinoza, Jean-Jacques Rousseau)</td>\n",
        "      <td>  7</td>\n",
        "    </tr>\n",
        "  </tbody>\n",
        "</table>\n",
        "<p>10 rows \u00d7 2 columns</p>\n",
        "</div>"
       ],
       "metadata": {},
       "output_type": "pyout",
       "prompt_number": 64,
       "text": [
        "                                                    index   0\n",
        "103795  (Friedrich Nietzsche, Georg Wilhelm Friedrich ...  12\n",
        "109500     (Georg Wilhelm Friedrich Hegel, Immanuel Kant)  10\n",
        "166858  (Johann Wolfgang von Goethe, Arthur Schopenhauer)   8\n",
        "104241           (Friedrich Nietzsche, S\u00f8ren Kierkegaard)   8\n",
        "103052                      (Friedrich Engels, Karl Marx)   8\n",
        "202273                       (Lenny Bruce, George Carlin)   8\n",
        "13347                   (Alexandre Dumas, Liviu Rebreanu)   8\n",
        "109513  (Georg Wilhelm Friedrich Hegel, Jean-Jacques R...   8\n",
        "260678                      (Raoul Schrott, G\u00fcnter Grass)   7\n",
        "34160             (Baruch Spinoza, Jean-Jacques Rousseau)   7\n",
        "\n",
        "[10 rows x 2 columns]"
       ]
      }
     ],
     "prompt_number": 64
    },
    {
     "cell_type": "code",
     "collapsed": false,
     "input": [
      "def longest_path(G):\n",
      "    dist = {} # stores [node, distance] pair\n",
      "    for node in nx.topological_sort(G):\n",
      "        # pairs of dist,node for all incoming edges\n",
      "        pairs = [(dist[v][0]+1,v) for v in G.pred[node]] \n",
      "        if pairs:\n",
      "            dist[node] = max(pairs)\n",
      "        else:\n",
      "            dist[node] = (0, node)\n",
      "    node,(length,_)  = max(dist.items(), key=lambda x:x[1])\n",
      "    path = []\n",
      "    while length > 0:\n",
      "        path.append(node)\n",
      "        length,node = dist[node]\n",
      "    return list(reversed(path))"
     ],
     "language": "python",
     "metadata": {},
     "outputs": [],
     "prompt_number": 65
    },
    {
     "cell_type": "code",
     "collapsed": false,
     "input": [
      "a=nx.DiGraph()\n",
      "a.add_node(1)\n",
      "a.add_node(2)\n",
      "a.add_node(3)\n",
      "a.add_node(4)\n",
      "a.add_node(5)\n",
      "a.add_node(6)\n",
      "a.add_node(7)\n",
      "a.add_node(8)\n",
      "a.add_node(9)\n",
      "a.add_node(10)\n",
      "a.add_node(11)\n",
      "a.add_node(12)\n",
      "a.add_node(13)\n",
      "a.add_node(14)\n",
      "a.add_node(15)\n",
      "a.add_node(16)\n",
      "a.add_edge(1,2)\n",
      "a.add_edge(2,3)\n",
      "a.add_edge(2,4)\n",
      "a.add_edge(4,5)\n",
      "a.add_edge(5,1)\n",
      "a.add_edge(4,3)\n",
      "a.add_edge(3,6)\n",
      "a.add_edge(6,7)\n",
      "a.add_edge(5,8)\n",
      "a.add_edge(7,5)\n",
      "a.add_path([1,9,10,11,12,13,14,15,16])\n",
      "a.add_edge(14,3)\n",
      "m=nx.bellman_ford(a,1)\n",
      "m\n",
      "nx.draw(nx.dfs_tree(a,1),with_labels=True)\n",
      "longest_path(nx.dfs_tree(a,1))"
     ],
     "language": "python",
     "metadata": {},
     "outputs": [
      {
       "metadata": {},
       "output_type": "pyout",
       "prompt_number": 66,
       "text": [
        "[1, 9, 10, 11, 12, 13, 14, 3, 6, 7, 5, 8]"
       ]
      },
      {
       "metadata": {},
       "output_type": "display_data",
       "png": "[encoded data removed]",
       "text": [
        "<matplotlib.figure.Figure at 0x7f4873f31990>"
       ]
      }
     ],
     "prompt_number": 66
    },
    {
     "cell_type": "code",
     "collapsed": false,
     "input": [
      "a=pd.DataFrame(np.zeros((len(influenciadores),1)))\n",
      "a.index=influenciadores\n",
      "a=a.reset_index()\n",
      "a[0][2]"
     ],
     "language": "python",
     "metadata": {},
     "outputs": [
      {
       "metadata": {},
       "output_type": "pyout",
       "prompt_number": 67,
       "text": [
        "0.0"
       ]
      }
     ],
     "prompt_number": "*"
    },
    {
     "cell_type": "code",
     "collapsed": false,
     "input": [
      "b=0\n",
      "for i in a['index']:\n",
      "    k=nx.dfs_tree(G,i)\n",
      "    a[0][b]=len(longest_path(k))\n",
      "    b=b+1"
     ],
     "language": "python",
     "metadata": {},
     "outputs": [],
     "prompt_number": "*"
    },
    {
     "cell_type": "code",
     "collapsed": false,
     "input": [
      "c=a.sort(column=0,ascending=False)[:5]"
     ],
     "language": "python",
     "metadata": {},
     "outputs": [],
     "prompt_number": "*"
    },
    {
     "cell_type": "code",
     "collapsed": false,
     "input": [
      "c"
     ],
     "language": "python",
     "metadata": {},
     "outputs": [],
     "prompt_number": "*"
    },
    {
     "cell_type": "code",
     "collapsed": false,
     "input": [
      "a=[]\n",
      "for i in c['index']:\n",
      "    k=nx.dfs_tree(G,i)\n",
      "    a.append(longest_path(k))"
     ],
     "language": "python",
     "metadata": {},
     "outputs": [],
     "prompt_number": "*"
    },
    {
     "cell_type": "code",
     "collapsed": false,
     "input": [
      "plt.figure(figsize(10,5))\n",
      "g=nx.DiGraph()\n",
      "g.add_path(a[0])\n",
      "nx.draw(g,with_labels=True)"
     ],
     "language": "python",
     "metadata": {},
     "outputs": [],
     "prompt_number": "*"
    },
    {
     "cell_type": "code",
     "collapsed": false,
     "input": [
      "plt.figure(figsize(10,5))\n",
      "g=nx.DiGraph()\n",
      "g.add_path(a[1])\n",
      "nx.draw(g,with_labels=True)"
     ],
     "language": "python",
     "metadata": {},
     "outputs": [],
     "prompt_number": "*"
    },
    {
     "cell_type": "code",
     "collapsed": false,
     "input": [
      "plt.figure(figsize(10,5))\n",
      "g=nx.DiGraph()\n",
      "g.add_path(a[2])\n",
      "nx.draw(g,with_labels=True)"
     ],
     "language": "python",
     "metadata": {},
     "outputs": [],
     "prompt_number": "*"
    },
    {
     "cell_type": "code",
     "collapsed": false,
     "input": [
      "plt.figure(figsize(10,5))\n",
      "g=nx.DiGraph()\n",
      "g.add_path(a[3])\n",
      "nx.draw(g,with_labels=True)"
     ],
     "language": "python",
     "metadata": {},
     "outputs": [],
     "prompt_number": "*"
    },
    {
     "cell_type": "code",
     "collapsed": false,
     "input": [
      "plt.figure(figsize(10,5))\n",
      "g=nx.DiGraph()\n",
      "g.add_path(a[4])\n",
      "nx.draw(g,with_labels=True)"
     ],
     "language": "python",
     "metadata": {},
     "outputs": [],
     "prompt_number": "*"
    },
    {
     "cell_type": "code",
     "collapsed": false,
     "input": [],
     "language": "python",
     "metadata": {},
     "outputs": [],
     "prompt_number": "*"
    },
    {
     "cell_type": "code",
     "collapsed": false,
     "input": [],
     "language": "python",
     "metadata": {},
     "outputs": []
    }
   ],
   "metadata": {}
  }
 ]
}